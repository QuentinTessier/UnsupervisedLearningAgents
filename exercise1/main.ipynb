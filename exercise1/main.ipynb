{
 "cells": [
  {
   "cell_type": "code",
   "execution_count": null,
   "metadata": {},
   "outputs": [],
   "source": [
    "import numpy as np\n",
    "import matplotlib.pyplot as pl"
   ]
  },
  {
   "attachments": {},
   "cell_type": "markdown",
   "metadata": {},
   "source": [
    "X (le poid d'une personne dans la population) représenté par une loi normal de location 98 et scale 20\n",
    "\n",
    "Y (l'age d'une personne dans la population) représenté par une loi normal de location 50 et scale 12.5\n",
    "\n",
    "L'espérance d'une loi normal est sa location\n",
    "\n",
    "L'espérance d'une variable aléatoire 2D est le vecteur des espérances"
   ]
  },
  {
   "cell_type": "code",
   "execution_count": null,
   "metadata": {},
   "outputs": [],
   "source": [
    "mu_X = 98\n",
    "sigma_X = 20\n",
    "mu_Y = 50\n",
    "sigma_Y = 12.5\n",
    "\n",
    "ns = np.arange(10, 5000, 10)\n",
    "n = 500"
   ]
  },
  {
   "cell_type": "code",
   "execution_count": null,
   "metadata": {},
   "outputs": [],
   "source": [
    "generator = np.random.Generator(np.random.PCG64())\n",
    "x = generator.normal(loc = mu_X, scale = sigma_X, size = n)\n",
    "y = generator.normal(loc = mu_Y, scale = sigma_Y, size = n)\n",
    "\n",
    "expected_value = (mu_X, mu_Y)\n",
    "print(\"Expected value {}\".format(expected_value))"
   ]
  }
 ],
 "metadata": {
  "language_info": {
   "name": "python"
  },
  "orig_nbformat": 4
 },
 "nbformat": 4,
 "nbformat_minor": 2
}
